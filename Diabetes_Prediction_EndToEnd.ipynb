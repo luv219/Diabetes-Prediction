{
 "cells": [
  {
   "cell_type": "markdown",
   "id": "c296d8cf",
   "metadata": {},
   "source": [
    "\n",
    "# 🩺 Diabetes Prediction from Health Data — End‑to‑End Notebook\n",
    "\n",
    "This notebook builds a **binary classification** model to predict the onset of **diabetes** from diagnostic measurements (Pima Indians Diabetes dataset).  \n",
    "It covers data loading, EDA, preprocessing, training multiple models, evaluation (ROC/PR curves), and feature importance.\n",
    "\n",
    "> **Note:** The notebook will attempt to **download the dataset automatically**. If you are offline, place a file named `diabetes.csv` under a local `data/` folder and re‑run the notebook.\n"
   ]
  },
  {
   "cell_type": "code",
   "execution_count": null,
   "id": "ab1b979a",
   "metadata": {},
   "outputs": [],
   "source": [
    "\n",
    "# === Imports & Config ===\n",
    "import os\n",
    "import io\n",
    "import sys\n",
    "import json\n",
    "import time\n",
    "import numpy as np\n",
    "import pandas as pd\n",
    "import matplotlib.pyplot as plt\n",
    "import seaborn as sns\n",
    "\n",
    "from pathlib import Path\n",
    "from urllib.request import urlopen\n",
    "\n",
    "from sklearn.model_selection import train_test_split, StratifiedKFold, cross_val_score\n",
    "from sklearn.preprocessing import StandardScaler\n",
    "from sklearn.pipeline import Pipeline\n",
    "from sklearn.compose import ColumnTransformer\n",
    "from sklearn.impute import SimpleImputer\n",
    "from sklearn.metrics import (classification_report, confusion_matrix, roc_auc_score, roc_curve,\n",
    "                             precision_recall_curve, average_precision_score)\n",
    "from sklearn.inspection import permutation_importance\n",
    "from sklearn.linear_model import LogisticRegression\n",
    "from sklearn.ensemble import RandomForestClassifier, GradientBoostingClassifier\n",
    "\n",
    "pd.set_option('display.max_columns', None)\n",
    "RANDOM_STATE = 42\n",
    "np.random.seed(RANDOM_STATE)\n",
    "\n",
    "print('Versions:')\n",
    "print('  Python  :', sys.version.split()[0])\n",
    "import sklearn, matplotlib\n",
    "print('  pandas  :', pd.__version__)\n",
    "print('  numpy   :', np.__version__)\n",
    "print('  sklearn :', sklearn.__version__)\n",
    "print('  matplotlib:', matplotlib.__version__)\n"
   ]
  },
  {
   "cell_type": "markdown",
   "id": "0f00cb4b",
   "metadata": {},
   "source": [
    "## 📥 Load Dataset"
   ]
  },
  {
   "cell_type": "code",
   "execution_count": null,
   "id": "519f4748",
   "metadata": {},
   "outputs": [],
   "source": [
    "\n",
    "# We'll try multiple known public sources. If all fail, read from local 'data/diabetes.csv'\n",
    "SOURCES = [\n",
    "    # Has headers\n",
    "    \"https://raw.githubusercontent.com/plotly/datasets/master/diabetes.csv\",\n",
    "    # No headers: we'll add them\n",
    "    \"https://raw.githubusercontent.com/jbrownlee/Datasets/master/pima-indians-diabetes.data.csv\",\n",
    "]\n",
    "\n",
    "COLUMNS = [\"Pregnancies\",\"Glucose\",\"BloodPressure\",\"SkinThickness\",\"Insulin\",\n",
    "           \"BMI\",\"DiabetesPedigreeFunction\",\"Age\",\"Outcome\"]\n",
    "\n",
    "data_path = Path('data/diabetes.csv')\n",
    "data_path.parent.mkdir(parents=True, exist_ok=True)\n",
    "\n",
    "def try_download():\n",
    "    for url in SOURCES:\n",
    "        try:\n",
    "            print(f'Trying {url} ...')\n",
    "            with urlopen(url, timeout=15) as resp:\n",
    "                text = resp.read().decode('utf-8')\n",
    "            df = pd.read_csv(io.StringIO(text))\n",
    "            # Handle the jbrownlee version with no header\n",
    "            if df.shape[1] == 9 and list(df.columns) == list(range(9)):\n",
    "                df.columns = COLUMNS\n",
    "            # If headers present but order is known, align\n",
    "            if set(df.columns) == set(COLUMNS):\n",
    "                df = df[COLUMNS]\n",
    "            # Save a local copy for reproducibility\n",
    "            df.to_csv(data_path, index=False)\n",
    "            print('Downloaded and saved to', data_path.resolve())\n",
    "            return df\n",
    "        except Exception as e:\n",
    "            print('  Failed:', e)\n",
    "    return None\n",
    "\n",
    "if data_path.exists():\n",
    "    df = pd.read_csv(data_path)\n",
    "    print('Loaded local data from', data_path.resolve())\n",
    "else:\n",
    "    df = try_download()\n",
    "    if df is None:\n",
    "        raise RuntimeError(\n",
    "            \"Could not download dataset. Please place a file 'data/diabetes.csv' locally \"\n",
    "            \"with columns: \" + \", \".join(COLUMNS)\n",
    "        )\n",
    "\n",
    "df.head()\n"
   ]
  },
  {
   "cell_type": "markdown",
   "id": "c6e3d94e",
   "metadata": {},
   "source": [
    "## 🔎 Exploratory Data Analysis"
   ]
  },
  {
   "cell_type": "code",
   "execution_count": null,
   "id": "36fd3abf",
   "metadata": {},
   "outputs": [],
   "source": [
    "\n",
    "df.info()\n"
   ]
  },
  {
   "cell_type": "code",
   "execution_count": null,
   "id": "5513e561",
   "metadata": {},
   "outputs": [],
   "source": [
    "\n",
    "df.describe().T\n"
   ]
  },
  {
   "cell_type": "code",
   "execution_count": null,
   "id": "50e7a161",
   "metadata": {},
   "outputs": [],
   "source": [
    "\n",
    "# Class distribution\n",
    "ax = df['Outcome'].value_counts().sort_index().plot(kind='bar', color=['#6baed6','#fd8d3c'])\n",
    "plt.title('Target Distribution (0 = No Diabetes, 1 = Diabetes)')\n",
    "plt.xlabel('Outcome'); plt.ylabel('Count'); plt.show()\n",
    "print('Positive rate:', df['Outcome'].mean().round(3))\n"
   ]
  },
  {
   "cell_type": "markdown",
   "id": "f16b919c",
   "metadata": {},
   "source": [
    "\n",
    "## 🧼 Data Cleaning & Preprocessing\n",
    "\n",
    "The Pima dataset encodes missing values as **0** in some medical fields.  \n",
    "We'll replace zeros with `NaN` for these columns, then impute with the **median**:\n",
    "- `Glucose`, `BloodPressure`, `SkinThickness`, `Insulin`, `BMI`\n"
   ]
  },
  {
   "cell_type": "code",
   "execution_count": null,
   "id": "b09117c7",
   "metadata": {},
   "outputs": [],
   "source": [
    "\n",
    "cols_with_missing_zero = [\"Glucose\",\"BloodPressure\",\"SkinThickness\",\"Insulin\",\"BMI\"]\n",
    "df_clean = df.copy()\n",
    "for c in cols_with_missing_zero:\n",
    "    df_clean[c] = df_clean[c].replace(0, np.nan)\n",
    "\n",
    "# Check missing counts\n",
    "df_clean[cols_with_missing_zero].isna().sum()\n"
   ]
  },
  {
   "cell_type": "markdown",
   "id": "69357ea6",
   "metadata": {},
   "source": [
    "## ✂️ Train / Test Split"
   ]
  },
  {
   "cell_type": "code",
   "execution_count": null,
   "id": "bf9032e8",
   "metadata": {},
   "outputs": [],
   "source": [
    "\n",
    "X = df_clean.drop(columns=['Outcome'])\n",
    "y = df_clean['Outcome']\n",
    "\n",
    "X_train, X_test, y_train, y_test = train_test_split(\n",
    "    X, y, test_size=0.2, random_state=RANDOM_STATE, stratify=y\n",
    ")\n",
    "\n",
    "X_train.shape, X_test.shape, y_train.mean().round(3), y_test.mean().round(3)\n"
   ]
  },
  {
   "cell_type": "markdown",
   "id": "da7dee3b",
   "metadata": {},
   "source": [
    "## 🧪 Models & Pipelines"
   ]
  },
  {
   "cell_type": "code",
   "execution_count": null,
   "id": "493765e6",
   "metadata": {},
   "outputs": [],
   "source": [
    "\n",
    "numeric_features = X_train.columns.tolist()\n",
    "\n",
    "preprocess = ColumnTransformer(\n",
    "    transformers=[\n",
    "        (\"num\", Pipeline(steps=[\n",
    "            (\"imputer\", SimpleImputer(strategy=\"median\")),\n",
    "            (\"scaler\", StandardScaler())\n",
    "        ]), numeric_features)\n",
    "    ]\n",
    ")\n",
    "\n",
    "models = {\n",
    "    \"LogisticRegression\": LogisticRegression(max_iter=1000, class_weight='balanced', random_state=RANDOM_STATE),\n",
    "    \"RandomForest\"     : RandomForestClassifier(n_estimators=300, max_depth=None, random_state=RANDOM_STATE, class_weight='balanced'),\n",
    "    \"GradientBoosting\" : GradientBoostingClassifier(random_state=RANDOM_STATE)\n",
    "}\n",
    "\n",
    "pipelines = {name: Pipeline(steps=[(\"prep\", preprocess), (\"clf\", model)]) for name, model in models.items()}\n",
    "\n",
    "# Cross-validated ROC AUC scores\n",
    "cv = StratifiedKFold(n_splits=5, shuffle=True, random_state=RANDOM_STATE)\n",
    "cv_scores = {}\n",
    "for name, pipe in pipelines.items():\n",
    "    scores = cross_val_score(pipe, X_train, y_train, cv=cv, scoring=\"roc_auc\", n_jobs=None)\n",
    "    cv_scores[name] = (scores.mean(), scores.std())\n",
    "    print(f\"{name}: ROC AUC {scores.mean():.3f} ± {scores.std():.3f}\")\n"
   ]
  },
  {
   "cell_type": "markdown",
   "id": "05718f8d",
   "metadata": {},
   "source": [
    "## 🏁 Train Best Model & Evaluate on Test Set"
   ]
  },
  {
   "cell_type": "code",
   "execution_count": null,
   "id": "cc41af79",
   "metadata": {},
   "outputs": [],
   "source": [
    "\n",
    "best_name = max(cv_scores.items(), key=lambda kv: kv[1][0])[0]\n",
    "best_pipe = pipelines[best_name]\n",
    "print('Best model by CV ROC AUC:', best_name)\n",
    "best_pipe.fit(X_train, y_train)\n",
    "\n",
    "# Predictions & metrics\n",
    "proba = best_pipe.predict_proba(X_test)[:,1]\n",
    "preds = (proba >= 0.5).astype(int)\n",
    "\n",
    "roc_auc = roc_auc_score(y_test, proba)\n",
    "ap = average_precision_score(y_test, proba)\n",
    "print(f\"Test ROC AUC: {roc_auc:.3f}\")\n",
    "print(f\"Test Avg Precision (PR AUC): {ap:.3f}\")\n",
    "print(\"\\nClassification Report:\\n\", classification_report(y_test, preds, digits=3))\n",
    "\n",
    "# Confusion matrix\n",
    "cm = confusion_matrix(y_test, preds)\n",
    "sns.heatmap(cm, annot=True, fmt='d', cmap='Blues')\n",
    "plt.title(f'Confusion Matrix — {best_name}')\n",
    "plt.xlabel('Predicted'); plt.ylabel('True')\n",
    "plt.show()\n"
   ]
  },
  {
   "cell_type": "markdown",
   "id": "2f5fea1a",
   "metadata": {},
   "source": [
    "## 📈 ROC & Precision‑Recall Curves"
   ]
  },
  {
   "cell_type": "code",
   "execution_count": null,
   "id": "14b7b4d1",
   "metadata": {},
   "outputs": [],
   "source": [
    "\n",
    "# ROC Curve\n",
    "fpr, tpr, thr = roc_curve(y_test, proba)\n",
    "plt.figure()\n",
    "plt.plot(fpr, tpr, label=f'{best_name} (AUC={roc_auc:.3f})')\n",
    "plt.plot([0,1], [0,1], 'k--', alpha=0.5)\n",
    "plt.xlabel('False Positive Rate'); plt.ylabel('True Positive Rate')\n",
    "plt.title('ROC Curve'); plt.legend(); plt.show()\n",
    "\n",
    "# PR Curve\n",
    "prec, rec, thr_pr = precision_recall_curve(y_test, proba)\n",
    "plt.figure()\n",
    "plt.plot(rec, prec, label=f'{best_name} (AP={ap:.3f})')\n",
    "plt.xlabel('Recall'); plt.ylabel('Precision'); plt.title('Precision‑Recall Curve')\n",
    "plt.legend(); plt.show()\n"
   ]
  },
  {
   "cell_type": "markdown",
   "id": "3ff92b89",
   "metadata": {},
   "source": [
    "## 🔍 Feature Importance (Permutation)"
   ]
  },
  {
   "cell_type": "code",
   "execution_count": null,
   "id": "37d68e7a",
   "metadata": {},
   "outputs": [],
   "source": [
    "\n",
    "r = permutation_importance(best_pipe, X_test, y_test, n_repeats=10, random_state=RANDOM_STATE, scoring='roc_auc')\n",
    "importances = pd.Series(r.importances_mean, index=[f'prep__num__{c}' for c in numeric_features])\n",
    "\n",
    "# Map back to raw feature names (since ColumnTransformer wraps them)\n",
    "clean_names = pd.Index(numeric_features)\n",
    "imp = pd.Series(r.importances_mean[:len(clean_names)], index=clean_names).sort_values(ascending=False)\n",
    "\n",
    "plt.figure(figsize=(8,4))\n",
    "sns.barplot(x=imp.values, y=imp.index, palette='viridis')\n",
    "plt.title('Permutation Importance (decrease in ROC AUC)')\n",
    "plt.xlabel('Mean Importance'); plt.ylabel('Feature')\n",
    "plt.tight_layout(); plt.show()\n",
    "\n",
    "imp.to_frame('importance').head(10)\n"
   ]
  },
  {
   "cell_type": "markdown",
   "id": "469196fb",
   "metadata": {},
   "source": [
    "## 💾 Save Trained Pipeline"
   ]
  },
  {
   "cell_type": "code",
   "execution_count": null,
   "id": "acbcdafd",
   "metadata": {},
   "outputs": [],
   "source": [
    "\n",
    "import joblib\n",
    "model_path = Path('artifacts'); model_path.mkdir(exist_ok=True)\n",
    "outfile = model_path / f'diabetes_model_{best_name.replace(\" \", \"_\").lower()}.joblib'\n",
    "joblib.dump(best_pipe, outfile)\n",
    "print('Saved pipeline to:', outfile.resolve())\n"
   ]
  },
  {
   "cell_type": "markdown",
   "id": "345cfee5",
   "metadata": {},
   "source": [
    "## 🔮 Inference Helper"
   ]
  },
  {
   "cell_type": "code",
   "execution_count": null,
   "id": "561cce49",
   "metadata": {},
   "outputs": [],
   "source": [
    "\n",
    "# Example: predict for a single patient\n",
    "sample = {\n",
    "    \"Pregnancies\": 2,\n",
    "    \"Glucose\": 120,\n",
    "    \"BloodPressure\": 70,\n",
    "    \"SkinThickness\": 25,\n",
    "    \"Insulin\": 79,\n",
    "    \"BMI\": 28.5,\n",
    "    \"DiabetesPedigreeFunction\": 0.45,\n",
    "    \"Age\": 35\n",
    "}\n",
    "sample_df = pd.DataFrame([sample])\n",
    "prob = best_pipe.predict_proba(sample_df)[0,1]\n",
    "pred = int(prob >= 0.5)\n",
    "print('Predicted probability of diabetes:', round(prob, 3), '=> class', pred)\n",
    "sample_df\n"
   ]
  },
  {
   "cell_type": "markdown",
   "id": "a0dc6c02",
   "metadata": {},
   "source": [
    "\n",
    "## 📚 Data Dictionary\n",
    "\n",
    "- **Pregnancies**: Number of times pregnant  \n",
    "- **Glucose**: Plasma glucose concentration (2 hours in an oral glucose tolerance test)  \n",
    "- **BloodPressure**: Diastolic blood pressure (mm Hg)  \n",
    "- **SkinThickness**: Triceps skinfold thickness (mm)  \n",
    "- **Insulin**: 2-Hour serum insulin (mu U/ml)  \n",
    "- **BMI**: Body mass index (weight in kg/(height in m)^2)  \n",
    "- **DiabetesPedigreeFunction**: Diabetes pedigree function (a function which scores likelihood of diabetes based on family history)  \n",
    "- **Age**: Age (years)  \n",
    "- **Outcome**: Class variable (0 or 1) — 1 indicates diabetes\n",
    "\n",
    "**Acknowledgements:** Pima Indians Diabetes dataset (originally from the National Institute of Diabetes and Digestive and Kidney Diseases).\n"
   ]
  }
 ],
 "metadata": {},
 "nbformat": 4,
 "nbformat_minor": 5
}
